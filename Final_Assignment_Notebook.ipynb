{
 "cells": [
  {
   "cell_type": "markdown",
   "id": "3e9a5b5e-f85a-49b1-971b-9fbdc32ccae3",
   "metadata": {
    "tags": []
   },
   "source": [
    "# Data Science Tools and Ecosystem"
   ]
  },
  {
   "cell_type": "markdown",
   "id": "c0ca3f68-5db1-47c8-88b2-2bd720a702cf",
   "metadata": {},
   "source": [
    "## Author\n",
    "Everett Moiseff"
   ]
  },
  {
   "cell_type": "markdown",
   "id": "0212c797-81e6-47da-a444-3421abd4bbaa",
   "metadata": {},
   "source": [
    "**Objectives**\n",
    "- List popular languages for Data Science\n",
    "- List popular tools for Data Science\n",
    "- Demonstrate simple arithmetic expressions in Python"
   ]
  },
  {
   "cell_type": "markdown",
   "id": "4b63706f-1a52-479e-88cd-1a827f4bc5ba",
   "metadata": {
    "tags": []
   },
   "source": [
    "### In this notebook, Data Science Tools and Ecosystem are summarized"
   ]
  },
  {
   "cell_type": "markdown",
   "id": "468939d3-7caf-4b60-bd73-c4c35bf4d4ae",
   "metadata": {
    "tags": []
   },
   "source": [
    "Some of the popular languages that Data Scientists use are:\n",
    "1. python\n",
    "2. R\n",
    "3. SQL"
   ]
  },
  {
   "cell_type": "markdown",
   "id": "c1343fd5-e5c9-4ad8-bf56-6bd6804e7030",
   "metadata": {},
   "source": [
    "Some of the commonly used libaries used by Data Scientists include: \n",
    "1. ggplot2\n",
    "2. plotly\n",
    "3. leaflet"
   ]
  },
  {
   "cell_type": "markdown",
   "id": "7d298158-f5ba-4a09-bd54-ddbca35b0ecd",
   "metadata": {},
   "source": [
    "|Data Science Tools|\n",
    "|----|\n",
    "|Pandas|\n",
    "|Scrapy|\n",
    "|R Studio|\n",
    "|JupyterLab|"
   ]
  },
  {
   "cell_type": "markdown",
   "id": "8fe15605-a8d9-40f2-8828-81ff176bbbdf",
   "metadata": {},
   "source": [
    "### Below are a few examples of evaluating arithmetic expressions in Python"
   ]
  },
  {
   "cell_type": "code",
   "execution_count": 15,
   "id": "e1a5f139-9321-477a-a295-e400ab60baae",
   "metadata": {
    "tags": []
   },
   "outputs": [
    {
     "data": {
      "text/plain": [
       "17"
      ]
     },
     "execution_count": 15,
     "metadata": {},
     "output_type": "execute_result"
    }
   ],
   "source": [
    "# this is a simple arithmetic expression to multiply then add integers\n",
    "\n",
    "(3*4)+5"
   ]
  },
  {
   "cell_type": "code",
   "execution_count": 21,
   "id": "2b9ae9d7-43f7-44a6-a1a6-d9d2c4cc82a3",
   "metadata": {
    "tags": []
   },
   "outputs": [
    {
     "name": "stdout",
     "output_type": "stream",
     "text": [
      "3.3333333333333335\n"
     ]
    }
   ],
   "source": [
    "# This will convert 200 minutes to hours by dividing by 60\n",
    "hours=200/60\n",
    "print(hours)"
   ]
  },
  {
   "cell_type": "markdown",
   "id": "2cfff946-04a9-4dec-8ac0-e1b460c9c2eb",
   "metadata": {},
   "source": []
  }
 ],
 "metadata": {
  "kernelspec": {
   "display_name": "Python 3 (ipykernel)",
   "language": "python",
   "name": "python3"
  },
  "language_info": {
   "codemirror_mode": {
    "name": "ipython",
    "version": 3
   },
   "file_extension": ".py",
   "mimetype": "text/x-python",
   "name": "python",
   "nbconvert_exporter": "python",
   "pygments_lexer": "ipython3",
   "version": "3.11.7"
  }
 },
 "nbformat": 4,
 "nbformat_minor": 5
}
